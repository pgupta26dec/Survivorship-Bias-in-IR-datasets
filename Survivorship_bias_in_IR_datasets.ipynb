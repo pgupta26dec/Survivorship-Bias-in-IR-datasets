{
  "nbformat": 4,
  "nbformat_minor": 0,
  "metadata": {
    "colab": {
      "name": "Survivorship bias in IR datasets.ipynb",
      "provenance": [],
      "collapsed_sections": [],
      "authorship_tag": "ABX9TyNq2T4D463WFE/dr04WZk3D",
      "include_colab_link": true
    },
    "kernelspec": {
      "name": "python3",
      "display_name": "Python 3"
    },
    "language_info": {
      "name": "python"
    }
  },
  "cells": [
    {
      "cell_type": "markdown",
      "metadata": {
        "id": "view-in-github",
        "colab_type": "text"
      },
      "source": [
        "<a href=\"https://colab.research.google.com/github/pgupta26dec/Survivorship-Bias-in-IR-datasets/blob/main/Survivorship_bias_in_IR_datasets.ipynb\" target=\"_parent\"><img src=\"https://colab.research.google.com/assets/colab-badge.svg\" alt=\"Open In Colab\"/></a>"
      ]
    },
    {
      "cell_type": "code",
      "metadata": {
        "id": "SheLgWN-mx2h"
      },
      "source": [
        "import pickle, gzip"
      ],
      "execution_count": null,
      "outputs": []
    },
    {
      "cell_type": "code",
      "metadata": {
        "id": "K3YkYNQwok3F"
      },
      "source": [
        "import pandas as pd"
      ],
      "execution_count": null,
      "outputs": []
    },
    {
      "cell_type": "code",
      "metadata": {
        "colab": {
          "base_uri": "https://localhost:8080/"
        },
        "id": "l2YcZsvQl9F_",
        "outputId": "c3afeb0f-4a71-494f-bafd-e947ec525bc3"
      },
      "source": [
        "!git clone https://github.com/pgupta26dec/Survivorship-Bias-in-IR-datasets.git"
      ],
      "execution_count": null,
      "outputs": [
        {
          "output_type": "stream",
          "name": "stdout",
          "text": [
            "fatal: destination path 'Survivorship-Bias-in-IR-datasets' already exists and is not an empty directory.\n"
          ]
        }
      ]
    },
    {
      "cell_type": "code",
      "metadata": {
        "id": "GzFpWTIZpy8M"
      },
      "source": [
        ""
      ],
      "execution_count": null,
      "outputs": []
    },
    {
      "cell_type": "code",
      "metadata": {
        "colab": {
          "base_uri": "https://localhost:8080/"
        },
        "id": "wqo3-es7jk7X",
        "outputId": "deecf7fc-49ea-4df3-9804-1de0dccf7955"
      },
      "source": [
        "pip install ir_datasets"
      ],
      "execution_count": null,
      "outputs": [
        {
          "output_type": "stream",
          "name": "stdout",
          "text": [
            "Collecting ir_datasets\n",
            "  Downloading ir_datasets-0.5.0-py3-none-any.whl (255 kB)\n",
            "\u001b[K     |████████████████████████████████| 255 kB 7.6 MB/s \n",
            "\u001b[?25hCollecting zlib-state>=0.1.3\n",
            "  Downloading zlib_state-0.1.3-cp37-cp37m-manylinux2010_x86_64.whl (72 kB)\n",
            "\u001b[K     |████████████████████████████████| 72 kB 1.8 MB/s \n",
            "\u001b[?25hCollecting ijson>=3.1.3\n",
            "  Downloading ijson-3.1.4-cp37-cp37m-manylinux2010_x86_64.whl (126 kB)\n",
            "\u001b[K     |████████████████████████████████| 126 kB 36.8 MB/s \n",
            "\u001b[?25hCollecting lz4>=3.1.1\n",
            "  Downloading lz4-3.1.10-cp37-cp37m-manylinux2010_x86_64.whl (1.8 MB)\n",
            "\u001b[K     |████████████████████████████████| 1.8 MB 50.0 MB/s \n",
            "\u001b[?25hCollecting warc3-wet>=0.2.3\n",
            "  Downloading warc3_wet-0.2.3-py3-none-any.whl (13 kB)\n",
            "Requirement already satisfied: numpy>=1.18.1 in /usr/local/lib/python3.7/dist-packages (from ir_datasets) (1.19.5)\n",
            "Collecting warc3-wet-clueweb09>=0.2.5\n",
            "  Downloading warc3-wet-clueweb09-0.2.5.tar.gz (17 kB)\n",
            "Collecting lxml>=4.5.2\n",
            "  Downloading lxml-4.6.4-cp37-cp37m-manylinux_2_17_x86_64.manylinux2014_x86_64.manylinux_2_24_x86_64.whl (6.3 MB)\n",
            "\u001b[K     |████████████████████████████████| 6.3 MB 66.8 MB/s \n",
            "\u001b[?25hCollecting pyautocorpus>=0.1.1\n",
            "  Downloading pyautocorpus-0.1.6-cp37-cp37m-manylinux_2_12_x86_64.manylinux2010_x86_64.whl (294 kB)\n",
            "\u001b[K     |████████████████████████████████| 294 kB 75.1 MB/s \n",
            "\u001b[?25hRequirement already satisfied: requests>=2.22.0 in /usr/local/lib/python3.7/dist-packages (from ir_datasets) (2.23.0)\n",
            "Requirement already satisfied: beautifulsoup4>=4.4.1 in /usr/local/lib/python3.7/dist-packages (from ir_datasets) (4.6.3)\n",
            "Collecting trec-car-tools>=2.5.4\n",
            "  Downloading trec_car_tools-2.5.4-py3-none-any.whl (8.1 kB)\n",
            "Collecting pyyaml>=5.3.1\n",
            "  Downloading PyYAML-6.0-cp37-cp37m-manylinux_2_5_x86_64.manylinux1_x86_64.manylinux_2_12_x86_64.manylinux2010_x86_64.whl (596 kB)\n",
            "\u001b[K     |████████████████████████████████| 596 kB 25.3 MB/s \n",
            "\u001b[?25hRequirement already satisfied: tqdm>=4.38.0 in /usr/local/lib/python3.7/dist-packages (from ir_datasets) (4.62.3)\n",
            "Requirement already satisfied: certifi>=2017.4.17 in /usr/local/lib/python3.7/dist-packages (from requests>=2.22.0->ir_datasets) (2021.10.8)\n",
            "Requirement already satisfied: idna<3,>=2.5 in /usr/local/lib/python3.7/dist-packages (from requests>=2.22.0->ir_datasets) (2.10)\n",
            "Requirement already satisfied: chardet<4,>=3.0.2 in /usr/local/lib/python3.7/dist-packages (from requests>=2.22.0->ir_datasets) (3.0.4)\n",
            "Requirement already satisfied: urllib3!=1.25.0,!=1.25.1,<1.26,>=1.21.1 in /usr/local/lib/python3.7/dist-packages (from requests>=2.22.0->ir_datasets) (1.24.3)\n",
            "Collecting cbor>=1.0.0\n",
            "  Downloading cbor-1.0.0.tar.gz (20 kB)\n",
            "Building wheels for collected packages: cbor, warc3-wet-clueweb09\n",
            "  Building wheel for cbor (setup.py) ... \u001b[?25l\u001b[?25hdone\n",
            "  Created wheel for cbor: filename=cbor-1.0.0-cp37-cp37m-linux_x86_64.whl size=51313 sha256=62a9ed41b7ef53fea8e64e94c3cecb9f902fdcec407b0378b194431d690dd89e\n",
            "  Stored in directory: /root/.cache/pip/wheels/19/77/49/c9c2c8dc5848502e606e8579d0bbda18b850fb056a6c62239d\n",
            "  Building wheel for warc3-wet-clueweb09 (setup.py) ... \u001b[?25l\u001b[?25hdone\n",
            "  Created wheel for warc3-wet-clueweb09: filename=warc3_wet_clueweb09-0.2.5-py3-none-any.whl size=18921 sha256=37ceaf06df4a3fa7cbbc18bdf0b26c567459ebdf5a3595bd87c57e4ff9a098e3\n",
            "  Stored in directory: /root/.cache/pip/wheels/42/d4/3c/7c2b0c3d400ad744e4db69f2fde166655da2ed2198bfc02db6\n",
            "Successfully built cbor warc3-wet-clueweb09\n",
            "Installing collected packages: cbor, zlib-state, warc3-wet-clueweb09, warc3-wet, trec-car-tools, pyyaml, pyautocorpus, lz4, lxml, ijson, ir-datasets\n",
            "  Attempting uninstall: pyyaml\n",
            "    Found existing installation: PyYAML 3.13\n",
            "    Uninstalling PyYAML-3.13:\n",
            "      Successfully uninstalled PyYAML-3.13\n",
            "  Attempting uninstall: lxml\n",
            "    Found existing installation: lxml 4.2.6\n",
            "    Uninstalling lxml-4.2.6:\n",
            "      Successfully uninstalled lxml-4.2.6\n",
            "Successfully installed cbor-1.0.0 ijson-3.1.4 ir-datasets-0.5.0 lxml-4.6.4 lz4-3.1.10 pyautocorpus-0.1.6 pyyaml-6.0 trec-car-tools-2.5.4 warc3-wet-0.2.3 warc3-wet-clueweb09-0.2.5 zlib-state-0.1.3\n"
          ]
        }
      ]
    },
    {
      "cell_type": "code",
      "metadata": {
        "id": "8ODoDWgSmq6j"
      },
      "source": [
        "with gzip.open('/content/Survivorship-Bias-in-IR-datasets/sample.ance.pkl.gz') as f:\n",
        "  sample_bm25_res = pickle.load(f)"
      ],
      "execution_count": null,
      "outputs": []
    },
    {
      "cell_type": "code",
      "metadata": {
        "colab": {
          "base_uri": "https://localhost:8080/"
        },
        "id": "KZ7Vm_Qdk-Oc",
        "outputId": "c97da1b3-b142-4a02-f5b0-5031c5c70dd6"
      },
      "source": [
        "!pip install --upgrade pandas"
      ],
      "execution_count": null,
      "outputs": [
        {
          "output_type": "stream",
          "name": "stdout",
          "text": [
            "Requirement already satisfied: pandas in /usr/local/lib/python3.7/dist-packages (1.3.4)\n",
            "Requirement already satisfied: python-dateutil>=2.7.3 in /usr/local/lib/python3.7/dist-packages (from pandas) (2.8.2)\n",
            "Requirement already satisfied: numpy>=1.17.3 in /usr/local/lib/python3.7/dist-packages (from pandas) (1.19.5)\n",
            "Requirement already satisfied: pytz>=2017.3 in /usr/local/lib/python3.7/dist-packages (from pandas) (2018.9)\n",
            "Requirement already satisfied: six>=1.5 in /usr/local/lib/python3.7/dist-packages (from python-dateutil>=2.7.3->pandas) (1.15.0)\n"
          ]
        }
      ]
    },
    {
      "cell_type": "code",
      "metadata": {
        "colab": {
          "base_uri": "https://localhost:8080/",
          "height": 423
        },
        "id": "9K0jUKDrnxh8",
        "outputId": "04517781-7380-4a94-87f1-34895b433380"
      },
      "source": [
        "sample_bm25_res"
      ],
      "execution_count": null,
      "outputs": [
        {
          "output_type": "execute_result",
          "data": {
            "text/html": [
              "<div>\n",
              "<style scoped>\n",
              "    .dataframe tbody tr th:only-of-type {\n",
              "        vertical-align: middle;\n",
              "    }\n",
              "\n",
              "    .dataframe tbody tr th {\n",
              "        vertical-align: top;\n",
              "    }\n",
              "\n",
              "    .dataframe thead th {\n",
              "        text-align: right;\n",
              "    }\n",
              "</style>\n",
              "<table border=\"1\" class=\"dataframe\">\n",
              "  <thead>\n",
              "    <tr style=\"text-align: right;\">\n",
              "      <th></th>\n",
              "      <th>qid</th>\n",
              "      <th>docid</th>\n",
              "      <th>docno</th>\n",
              "      <th>score</th>\n",
              "      <th>query</th>\n",
              "      <th>text</th>\n",
              "      <th>rank</th>\n",
              "    </tr>\n",
              "  </thead>\n",
              "  <tbody>\n",
              "    <tr>\n",
              "      <th>4601</th>\n",
              "      <td>1031667</td>\n",
              "      <td>129478893</td>\n",
              "      <td>msmarco_passage_64_643199473</td>\n",
              "      <td>712.927979</td>\n",
              "      <td>who is corporate travel manager of the general...</td>\n",
              "      <td>A corporate travel manager is typically an int...</td>\n",
              "      <td>0</td>\n",
              "    </tr>\n",
              "    <tr>\n",
              "      <th>4617</th>\n",
              "      <td>1031667</td>\n",
              "      <td>4901104</td>\n",
              "      <td>msmarco_passage_02_391177781</td>\n",
              "      <td>712.658447</td>\n",
              "      <td>who is corporate travel manager of the general...</td>\n",
              "      <td>Corporate Governance: General Motors Corporati...</td>\n",
              "      <td>1</td>\n",
              "    </tr>\n",
              "    <tr>\n",
              "      <th>4618</th>\n",
              "      <td>1031667</td>\n",
              "      <td>57261122</td>\n",
              "      <td>msmarco_passage_28_550112974</td>\n",
              "      <td>712.658447</td>\n",
              "      <td>who is corporate travel manager of the general...</td>\n",
              "      <td>Corporate Governance: General Motors Corporati...</td>\n",
              "      <td>2</td>\n",
              "    </tr>\n",
              "    <tr>\n",
              "      <th>4637</th>\n",
              "      <td>1031667</td>\n",
              "      <td>62502699</td>\n",
              "      <td>msmarco_passage_31_218365166</td>\n",
              "      <td>712.502686</td>\n",
              "      <td>who is corporate travel manager of the general...</td>\n",
              "      <td>Corporate Travel Manager responsibilities incl...</td>\n",
              "      <td>3</td>\n",
              "    </tr>\n",
              "    <tr>\n",
              "      <th>4673</th>\n",
              "      <td>1031667</td>\n",
              "      <td>129304276</td>\n",
              "      <td>msmarco_passage_64_567318329</td>\n",
              "      <td>711.566589</td>\n",
              "      <td>who is corporate travel manager of the general...</td>\n",
              "      <td>13. Corporate travel manager: $67K 1. Many lar...</td>\n",
              "      <td>4</td>\n",
              "    </tr>\n",
              "    <tr>\n",
              "      <th>...</th>\n",
              "      <td>...</td>\n",
              "      <td>...</td>\n",
              "      <td>...</td>\n",
              "      <td>...</td>\n",
              "      <td>...</td>\n",
              "      <td>...</td>\n",
              "      <td>...</td>\n",
              "    </tr>\n",
              "    <tr>\n",
              "      <th>4264</th>\n",
              "      <td>991868</td>\n",
              "      <td>37276475</td>\n",
              "      <td>msmarco_passage_18_553610320</td>\n",
              "      <td>705.319214</td>\n",
              "      <td>where is rose wine made or grown</td>\n",
              "      <td>Days of Wine and Roses at the TCM Movie Databa...</td>\n",
              "      <td>95</td>\n",
              "    </tr>\n",
              "    <tr>\n",
              "      <th>4281</th>\n",
              "      <td>991868</td>\n",
              "      <td>22063597</td>\n",
              "      <td>msmarco_passage_11_29708065</td>\n",
              "      <td>705.194153</td>\n",
              "      <td>where is rose wine made or grown</td>\n",
              "      <td>Vintage classification regulates wines that ar...</td>\n",
              "      <td>96</td>\n",
              "    </tr>\n",
              "    <tr>\n",
              "      <th>4283</th>\n",
              "      <td>991868</td>\n",
              "      <td>27843035</td>\n",
              "      <td>msmarco_passage_13_807755509</td>\n",
              "      <td>705.047546</td>\n",
              "      <td>where is rose wine made or grown</td>\n",
              "      <td>Inherent value comes from the wine itself. The...</td>\n",
              "      <td>97</td>\n",
              "    </tr>\n",
              "    <tr>\n",
              "      <th>4287</th>\n",
              "      <td>991868</td>\n",
              "      <td>21601350</td>\n",
              "      <td>msmarco_passage_10_698837092</td>\n",
              "      <td>704.542664</td>\n",
              "      <td>where is rose wine made or grown</td>\n",
              "      <td>How Many Calories in Rose Wine. Tweet. View ca...</td>\n",
              "      <td>98</td>\n",
              "    </tr>\n",
              "    <tr>\n",
              "      <th>4288</th>\n",
              "      <td>991868</td>\n",
              "      <td>133882949</td>\n",
              "      <td>msmarco_passage_66_820034524</td>\n",
              "      <td>704.542664</td>\n",
              "      <td>where is rose wine made or grown</td>\n",
              "      <td>How Many Calories in Rose Wine. Tweet. View ca...</td>\n",
              "      <td>99</td>\n",
              "    </tr>\n",
              "  </tbody>\n",
              "</table>\n",
              "<p>5000 rows × 7 columns</p>\n",
              "</div>"
            ],
            "text/plain": [
              "          qid  ...  rank\n",
              "4601  1031667  ...     0\n",
              "4617  1031667  ...     1\n",
              "4618  1031667  ...     2\n",
              "4637  1031667  ...     3\n",
              "4673  1031667  ...     4\n",
              "...       ...  ...   ...\n",
              "4264   991868  ...    95\n",
              "4281   991868  ...    96\n",
              "4283   991868  ...    97\n",
              "4287   991868  ...    98\n",
              "4288   991868  ...    99\n",
              "\n",
              "[5000 rows x 7 columns]"
            ]
          },
          "metadata": {},
          "execution_count": 8
        }
      ]
    },
    {
      "cell_type": "code",
      "metadata": {
        "id": "pM8CiFPzoFkk"
      },
      "source": [
        ""
      ],
      "execution_count": null,
      "outputs": []
    }
  ]
}